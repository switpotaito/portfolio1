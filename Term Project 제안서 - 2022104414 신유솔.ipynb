{
 "cells": [
  {
   "cell_type": "markdown",
   "id": "789c3245",
   "metadata": {},
   "source": [
    "# Term Project "
   ]
  },
  {
   "cell_type": "markdown",
   "id": "906c3d81",
   "metadata": {},
   "source": [
    "주제: 지진 관련 데이터 분석을 통한 지진 대피소 입지 분석\n",
    "\n",
    "(1) 주제 선정 이유 <br>\n",
    "\n",
    "2016년의 경주 지진, 2017년의 포항 지진부터 시작해 최근 뉴스를 살펴보면 우리나라도 더 이상 지진에서 안전한 국가가 아니다. 일본과 같이 지진의 가능성을 항상 열어두고 있는 나라와 달리 우리나라는 지진 발생 시 대피요령 등에 대해 잘 알지 못한다. 그 중에서도 지진해일 긴급대피장소를 파악해두는 일은 지진 발생 시 대피요령 중 가장 중요하다. 따라서 현재 지진대피소가 지역별로 얼마나 구축되어 있는지,해당 대피소가 지진대피소로 적합한지, 인구 분포, 지진 횟수에 따라 지진대피소가 더 필요한 지역이 어딘지를 파악하여 추가로 지진대피소를 설치해야하는 장소 파악을 위해 이 주제를 선정했다.\n",
    "\n",
    "\n",
    "(2) 가설 정의: 본인이 Term 프로젝트를 통해서 증명하고자 하는 명제 혹은 밝히고자 하는 논리가 무엇인지 설명함<br>\n",
    "- 우리나라 지역별 지진 발생 횟수\n",
    "- 우리나라 지역별 지진해일 긴급대피장소\n",
    "- 우리나라 지역별 인구 분포 <br>\n",
    "\n",
    "위와 같은 데이터를 활용하여 지진대피소가 더 필요한 지역은 어디인지, 인구 분포(노약자, 장애인)를 고려해 지진대피소가 더 필요한 지역이 어딘지를 파악하여 추가로 지진대피소를 설치해야하는 장소 모색, 현재 설치되어있는 지진대피소들이 지진대피소로 적합한지를 확인하고 싶다. \n"
   ]
  }
 ],
 "metadata": {
  "kernelspec": {
   "display_name": "Python 3 (ipykernel)",
   "language": "python",
   "name": "python3"
  },
  "language_info": {
   "codemirror_mode": {
    "name": "ipython",
    "version": 3
   },
   "file_extension": ".py",
   "mimetype": "text/x-python",
   "name": "python",
   "nbconvert_exporter": "python",
   "pygments_lexer": "ipython3",
   "version": "3.9.12"
  }
 },
 "nbformat": 4,
 "nbformat_minor": 5
}
